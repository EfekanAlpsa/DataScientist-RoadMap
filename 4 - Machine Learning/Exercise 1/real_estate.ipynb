{
 "cells": [
  {
   "cell_type": "markdown",
   "id": "991e2b1f",
   "metadata": {},
   "source": [
    "<h1><center>Chicago House Price</center></h1>\n",
    "\n",
    "### 1 - Import Libraries & Data"
   ]
  },
  {
   "cell_type": "code",
   "execution_count": 1,
   "id": "ace8e5a2",
   "metadata": {},
   "outputs": [],
   "source": [
    "import numpy as np\n",
    "import pandas as pd\n",
    "import matplotlib.pyplot as plt\n",
    "import seaborn as sn\n",
    "\n",
    "from sklearn.linear_model import LinearRegression\n",
    "from sklearn.metrics import mean_absolute_error\n",
    "from sklearn.impute import SimpleImputer\n",
    "from sklearn.preprocessing import StandardScaler\n",
    "from sklearn.model_selection import train_test_split\n",
    "\n",
    "from matplotlib import rcParams    # to manipulate sizes of my figers\n",
    "rcParams['figure.figsize'] = (12,8)"
   ]
  },
  {
   "cell_type": "code",
   "execution_count": 2,
   "id": "6925ef87",
   "metadata": {},
   "outputs": [
    {
     "data": {
      "text/html": [
       "<div>\n",
       "<style scoped>\n",
       "    .dataframe tbody tr th:only-of-type {\n",
       "        vertical-align: middle;\n",
       "    }\n",
       "\n",
       "    .dataframe tbody tr th {\n",
       "        vertical-align: top;\n",
       "    }\n",
       "\n",
       "    .dataframe thead th {\n",
       "        text-align: right;\n",
       "    }\n",
       "</style>\n",
       "<table border=\"1\" class=\"dataframe\">\n",
       "  <thead>\n",
       "    <tr style=\"text-align: right;\">\n",
       "      <th></th>\n",
       "      <th>Price</th>\n",
       "      <th>Bedroom</th>\n",
       "      <th>Space</th>\n",
       "      <th>Room</th>\n",
       "      <th>Lot</th>\n",
       "      <th>Tax</th>\n",
       "      <th>Bathroom</th>\n",
       "      <th>Garage</th>\n",
       "      <th>Condition</th>\n",
       "    </tr>\n",
       "  </thead>\n",
       "  <tbody>\n",
       "    <tr>\n",
       "      <th>0</th>\n",
       "      <td>53.0</td>\n",
       "      <td>2.0</td>\n",
       "      <td>967.0</td>\n",
       "      <td>5.0</td>\n",
       "      <td>39.0</td>\n",
       "      <td>652.0</td>\n",
       "      <td>1.5</td>\n",
       "      <td>0.0</td>\n",
       "      <td>0.0</td>\n",
       "    </tr>\n",
       "    <tr>\n",
       "      <th>1</th>\n",
       "      <td>55.0</td>\n",
       "      <td>2.0</td>\n",
       "      <td>815.0</td>\n",
       "      <td>5.0</td>\n",
       "      <td>33.0</td>\n",
       "      <td>1000.0</td>\n",
       "      <td>1.0</td>\n",
       "      <td>2.0</td>\n",
       "      <td>1.0</td>\n",
       "    </tr>\n",
       "    <tr>\n",
       "      <th>2</th>\n",
       "      <td>56.0</td>\n",
       "      <td>3.0</td>\n",
       "      <td>900.0</td>\n",
       "      <td>5.0</td>\n",
       "      <td>35.0</td>\n",
       "      <td>897.0</td>\n",
       "      <td>1.5</td>\n",
       "      <td>1.0</td>\n",
       "      <td>0.0</td>\n",
       "    </tr>\n",
       "    <tr>\n",
       "      <th>3</th>\n",
       "      <td>58.0</td>\n",
       "      <td>3.0</td>\n",
       "      <td>1007.0</td>\n",
       "      <td>6.0</td>\n",
       "      <td>24.0</td>\n",
       "      <td>964.0</td>\n",
       "      <td>1.5</td>\n",
       "      <td>2.0</td>\n",
       "      <td>0.0</td>\n",
       "    </tr>\n",
       "    <tr>\n",
       "      <th>4</th>\n",
       "      <td>64.0</td>\n",
       "      <td>3.0</td>\n",
       "      <td>1100.0</td>\n",
       "      <td>7.0</td>\n",
       "      <td>50.0</td>\n",
       "      <td>1099.0</td>\n",
       "      <td>1.5</td>\n",
       "      <td>1.5</td>\n",
       "      <td>0.0</td>\n",
       "    </tr>\n",
       "  </tbody>\n",
       "</table>\n",
       "</div>"
      ],
      "text/plain": [
       "   Price  Bedroom   Space  Room   Lot     Tax  Bathroom  Garage  Condition\n",
       "0   53.0      2.0   967.0   5.0  39.0   652.0       1.5     0.0        0.0\n",
       "1   55.0      2.0   815.0   5.0  33.0  1000.0       1.0     2.0        1.0\n",
       "2   56.0      3.0   900.0   5.0  35.0   897.0       1.5     1.0        0.0\n",
       "3   58.0      3.0  1007.0   6.0  24.0   964.0       1.5     2.0        0.0\n",
       "4   64.0      3.0  1100.0   7.0  50.0  1099.0       1.5     1.5        0.0"
      ]
     },
     "execution_count": 2,
     "metadata": {},
     "output_type": "execute_result"
    }
   ],
   "source": [
    "df = pd.read_csv('realest.csv')\n",
    "df.head()"
   ]
  },
  {
   "cell_type": "markdown",
   "id": "93d05758",
   "metadata": {},
   "source": [
    "### 2 - Data Review & Understanding Data"
   ]
  },
  {
   "cell_type": "code",
   "execution_count": 3,
   "id": "db1e8214",
   "metadata": {},
   "outputs": [
    {
     "name": "stdout",
     "output_type": "stream",
     "text": [
      "<class 'pandas.core.frame.DataFrame'>\n",
      "RangeIndex: 157 entries, 0 to 156\n",
      "Data columns (total 9 columns):\n",
      " #   Column     Non-Null Count  Dtype  \n",
      "---  ------     --------------  -----  \n",
      " 0   Price      156 non-null    float64\n",
      " 1   Bedroom    156 non-null    float64\n",
      " 2   Space      146 non-null    float64\n",
      " 3   Room       156 non-null    float64\n",
      " 4   Lot        146 non-null    float64\n",
      " 5   Tax        147 non-null    float64\n",
      " 6   Bathroom   156 non-null    float64\n",
      " 7   Garage     156 non-null    float64\n",
      " 8   Condition  156 non-null    float64\n",
      "dtypes: float64(9)\n",
      "memory usage: 11.2 KB\n"
     ]
    }
   ],
   "source": [
    "df.info()"
   ]
  },
  {
   "cell_type": "code",
   "execution_count": 4,
   "id": "ca03c568",
   "metadata": {},
   "outputs": [
    {
     "data": {
      "text/plain": [
       "(157, 9)"
      ]
     },
     "execution_count": 4,
     "metadata": {},
     "output_type": "execute_result"
    }
   ],
   "source": [
    "df.shape"
   ]
  },
  {
   "cell_type": "code",
   "execution_count": 5,
   "id": "8ba26734",
   "metadata": {},
   "outputs": [
    {
     "data": {
      "text/plain": [
       "Price         47\n",
       "Bedroom        7\n",
       "Space        137\n",
       "Room           7\n",
       "Lot           11\n",
       "Tax          138\n",
       "Bathroom       5\n",
       "Garage         4\n",
       "Condition      2\n",
       "dtype: int64"
      ]
     },
     "execution_count": 5,
     "metadata": {},
     "output_type": "execute_result"
    }
   ],
   "source": [
    "df.nunique()"
   ]
  },
  {
   "cell_type": "markdown",
   "id": "707150b2",
   "metadata": {},
   "source": [
    "Data Observations :\n",
    "\n",
    "1 Dataset has 156 rows and 9 columns .\n",
    "\n",
    "2 all columns are float ."
   ]
  },
  {
   "cell_type": "markdown",
   "id": "0380ffac",
   "metadata": {},
   "source": [
    "### 3 - Data Cleaning & Exploring"
   ]
  },
  {
   "cell_type": "code",
   "execution_count": 7,
   "id": "98de2f27",
   "metadata": {},
   "outputs": [
    {
     "name": "stdout",
     "output_type": "stream",
     "text": [
      "Price         1\n",
      "Bedroom       1\n",
      "Space        11\n",
      "Room          1\n",
      "Lot          11\n",
      "Tax          10\n",
      "Bathroom      1\n",
      "Garage        1\n",
      "Condition     1\n",
      "dtype: int64\n",
      "\n",
      "All missing values in data 38\n",
      "\n",
      "Percentage Of Missing Values In Each Column : \n",
      " \n",
      "Price        0.006369\n",
      "Bedroom      0.006369\n",
      "Space        0.070064\n",
      "Room         0.006369\n",
      "Lot          0.070064\n",
      "Tax          0.063694\n",
      "Bathroom     0.006369\n",
      "Garage       0.006369\n",
      "Condition    0.006369\n",
      "dtype: float64\n"
     ]
    }
   ],
   "source": [
    "print(df.isnull().sum())\n",
    "print()\n",
    "print(f\"All missing values in data {df.isna().sum().sum()}\")\n",
    "print()\n",
    "print(f\"Percentage Of Missing Values In Each Column : \\n \\n{df.isna().mean()}\")"
   ]
  },
  {
   "cell_type": "code",
   "execution_count": 8,
   "id": "a7f36585",
   "metadata": {},
   "outputs": [
    {
     "data": {
      "text/plain": [
       "0"
      ]
     },
     "execution_count": 8,
     "metadata": {},
     "output_type": "execute_result"
    }
   ],
   "source": [
    "df.duplicated().sum()"
   ]
  },
  {
   "cell_type": "markdown",
   "id": "bceb54e7",
   "metadata": {},
   "source": [
    "- all columns have null values . all nulls is 38\n",
    "- there are not duplicated rows\n",
    "\n",
    "imputing missing values ."
   ]
  },
  {
   "cell_type": "code",
   "execution_count": 9,
   "id": "35269f26",
   "metadata": {},
   "outputs": [],
   "source": [
    "for col in df.columns:\n",
    "    if col in [\"Space\",\"Tax\",\"Lot\"]:\n",
    "        df[col]=df[col].fillna(df[col].mean())\n",
    "    else:\n",
    "        df[col]=df[col].fillna(df[col].median())"
   ]
  },
  {
   "cell_type": "code",
   "execution_count": 10,
   "id": "22977c3d",
   "metadata": {},
   "outputs": [
    {
     "data": {
      "text/plain": [
       "Price        0\n",
       "Bedroom      0\n",
       "Space        0\n",
       "Room         0\n",
       "Lot          0\n",
       "Tax          0\n",
       "Bathroom     0\n",
       "Garage       0\n",
       "Condition    0\n",
       "dtype: int64"
      ]
     },
     "execution_count": 10,
     "metadata": {},
     "output_type": "execute_result"
    }
   ],
   "source": [
    "df.isna().sum()"
   ]
  },
  {
   "cell_type": "code",
   "execution_count": null,
   "id": "526e4cd7",
   "metadata": {},
   "outputs": [],
   "source": []
  }
 ],
 "metadata": {
  "kernelspec": {
   "display_name": "Python 3 (ipykernel)",
   "language": "python",
   "name": "python3"
  },
  "language_info": {
   "codemirror_mode": {
    "name": "ipython",
    "version": 3
   },
   "file_extension": ".py",
   "mimetype": "text/x-python",
   "name": "python",
   "nbconvert_exporter": "python",
   "pygments_lexer": "ipython3",
   "version": "3.10.0"
  }
 },
 "nbformat": 4,
 "nbformat_minor": 5
}
