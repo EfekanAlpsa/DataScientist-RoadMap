{
 "cells": [
  {
   "cell_type": "markdown",
   "id": "3e99bd91",
   "metadata": {},
   "source": [
    "## 📚 Imports"
   ]
  },
  {
   "cell_type": "code",
   "execution_count": 2,
   "id": "d4965172",
   "metadata": {},
   "outputs": [],
   "source": [
    "import pandas as pd\n",
    "import seaborn as sn\n",
    "import matplotlib.pyplot as plt\n",
    "import plotly.graph_objects as go\n",
    "\n",
    "import warnings\n",
    "warnings.filterwarnings(\"ignore\")"
   ]
  },
  {
   "cell_type": "markdown",
   "id": "bb2fb115",
   "metadata": {},
   "source": [
    "## 🔎 Google Stock"
   ]
  },
  {
   "cell_type": "code",
   "execution_count": 3,
   "id": "ff5600b9",
   "metadata": {},
   "outputs": [],
   "source": [
    "df_g = pd.read_csv('AAPL_data.csv')"
   ]
  },
  {
   "cell_type": "code",
   "execution_count": 4,
   "id": "a2a22821",
   "metadata": {},
   "outputs": [
    {
     "data": {
      "text/html": [
       "<div>\n",
       "<style scoped>\n",
       "    .dataframe tbody tr th:only-of-type {\n",
       "        vertical-align: middle;\n",
       "    }\n",
       "\n",
       "    .dataframe tbody tr th {\n",
       "        vertical-align: top;\n",
       "    }\n",
       "\n",
       "    .dataframe thead th {\n",
       "        text-align: right;\n",
       "    }\n",
       "</style>\n",
       "<table border=\"1\" class=\"dataframe\">\n",
       "  <thead>\n",
       "    <tr style=\"text-align: right;\">\n",
       "      <th></th>\n",
       "      <th>date</th>\n",
       "      <th>open</th>\n",
       "      <th>high</th>\n",
       "      <th>low</th>\n",
       "      <th>close</th>\n",
       "      <th>volume</th>\n",
       "      <th>Name</th>\n",
       "    </tr>\n",
       "  </thead>\n",
       "  <tbody>\n",
       "    <tr>\n",
       "      <th>0</th>\n",
       "      <td>2013-02-08</td>\n",
       "      <td>67.7142</td>\n",
       "      <td>68.4014</td>\n",
       "      <td>66.8928</td>\n",
       "      <td>67.8542</td>\n",
       "      <td>158168416</td>\n",
       "      <td>AAPL</td>\n",
       "    </tr>\n",
       "    <tr>\n",
       "      <th>1</th>\n",
       "      <td>2013-02-11</td>\n",
       "      <td>68.0714</td>\n",
       "      <td>69.2771</td>\n",
       "      <td>67.6071</td>\n",
       "      <td>68.5614</td>\n",
       "      <td>129029425</td>\n",
       "      <td>AAPL</td>\n",
       "    </tr>\n",
       "    <tr>\n",
       "      <th>2</th>\n",
       "      <td>2013-02-12</td>\n",
       "      <td>68.5014</td>\n",
       "      <td>68.9114</td>\n",
       "      <td>66.8205</td>\n",
       "      <td>66.8428</td>\n",
       "      <td>151829363</td>\n",
       "      <td>AAPL</td>\n",
       "    </tr>\n",
       "    <tr>\n",
       "      <th>3</th>\n",
       "      <td>2013-02-13</td>\n",
       "      <td>66.7442</td>\n",
       "      <td>67.6628</td>\n",
       "      <td>66.1742</td>\n",
       "      <td>66.7156</td>\n",
       "      <td>118721995</td>\n",
       "      <td>AAPL</td>\n",
       "    </tr>\n",
       "    <tr>\n",
       "      <th>4</th>\n",
       "      <td>2013-02-14</td>\n",
       "      <td>66.3599</td>\n",
       "      <td>67.3771</td>\n",
       "      <td>66.2885</td>\n",
       "      <td>66.6556</td>\n",
       "      <td>88809154</td>\n",
       "      <td>AAPL</td>\n",
       "    </tr>\n",
       "  </tbody>\n",
       "</table>\n",
       "</div>"
      ],
      "text/plain": [
       "         date     open     high      low    close     volume  Name\n",
       "0  2013-02-08  67.7142  68.4014  66.8928  67.8542  158168416  AAPL\n",
       "1  2013-02-11  68.0714  69.2771  67.6071  68.5614  129029425  AAPL\n",
       "2  2013-02-12  68.5014  68.9114  66.8205  66.8428  151829363  AAPL\n",
       "3  2013-02-13  66.7442  67.6628  66.1742  66.7156  118721995  AAPL\n",
       "4  2013-02-14  66.3599  67.3771  66.2885  66.6556   88809154  AAPL"
      ]
     },
     "execution_count": 4,
     "metadata": {},
     "output_type": "execute_result"
    }
   ],
   "source": [
    "df_g.head()"
   ]
  },
  {
   "cell_type": "code",
   "execution_count": 5,
   "id": "d36b3a83",
   "metadata": {},
   "outputs": [
    {
     "data": {
      "text/html": [
       "<div>\n",
       "<style scoped>\n",
       "    .dataframe tbody tr th:only-of-type {\n",
       "        vertical-align: middle;\n",
       "    }\n",
       "\n",
       "    .dataframe tbody tr th {\n",
       "        vertical-align: top;\n",
       "    }\n",
       "\n",
       "    .dataframe thead th {\n",
       "        text-align: right;\n",
       "    }\n",
       "</style>\n",
       "<table border=\"1\" class=\"dataframe\">\n",
       "  <thead>\n",
       "    <tr style=\"text-align: right;\">\n",
       "      <th></th>\n",
       "      <th>count</th>\n",
       "      <th>mean</th>\n",
       "      <th>std</th>\n",
       "      <th>min</th>\n",
       "      <th>25%</th>\n",
       "      <th>50%</th>\n",
       "      <th>75%</th>\n",
       "      <th>max</th>\n",
       "    </tr>\n",
       "  </thead>\n",
       "  <tbody>\n",
       "    <tr>\n",
       "      <th>open</th>\n",
       "      <td>1259.0</td>\n",
       "      <td>1.090554e+02</td>\n",
       "      <td>3.054922e+01</td>\n",
       "      <td>5.542420e+01</td>\n",
       "      <td>8.464780e+01</td>\n",
       "      <td>108.97</td>\n",
       "      <td>1.273350e+02</td>\n",
       "      <td>1.793700e+02</td>\n",
       "    </tr>\n",
       "    <tr>\n",
       "      <th>high</th>\n",
       "      <td>1259.0</td>\n",
       "      <td>1.099511e+02</td>\n",
       "      <td>3.068619e+01</td>\n",
       "      <td>5.708570e+01</td>\n",
       "      <td>8.533495e+01</td>\n",
       "      <td>110.03</td>\n",
       "      <td>1.281000e+02</td>\n",
       "      <td>1.801000e+02</td>\n",
       "    </tr>\n",
       "    <tr>\n",
       "      <th>low</th>\n",
       "      <td>1259.0</td>\n",
       "      <td>1.081416e+02</td>\n",
       "      <td>3.037622e+01</td>\n",
       "      <td>5.501420e+01</td>\n",
       "      <td>8.425065e+01</td>\n",
       "      <td>108.05</td>\n",
       "      <td>1.262900e+02</td>\n",
       "      <td>1.782500e+02</td>\n",
       "    </tr>\n",
       "    <tr>\n",
       "      <th>close</th>\n",
       "      <td>1259.0</td>\n",
       "      <td>1.090667e+02</td>\n",
       "      <td>3.055681e+01</td>\n",
       "      <td>5.578990e+01</td>\n",
       "      <td>8.483065e+01</td>\n",
       "      <td>109.01</td>\n",
       "      <td>1.271200e+02</td>\n",
       "      <td>1.792600e+02</td>\n",
       "    </tr>\n",
       "    <tr>\n",
       "      <th>volume</th>\n",
       "      <td>1259.0</td>\n",
       "      <td>5.404790e+07</td>\n",
       "      <td>3.346835e+07</td>\n",
       "      <td>1.147592e+07</td>\n",
       "      <td>2.969438e+07</td>\n",
       "      <td>45668931.00</td>\n",
       "      <td>6.870872e+07</td>\n",
       "      <td>2.668336e+08</td>\n",
       "    </tr>\n",
       "  </tbody>\n",
       "</table>\n",
       "</div>"
      ],
      "text/plain": [
       "         count          mean           std           min           25%  \\\n",
       "open    1259.0  1.090554e+02  3.054922e+01  5.542420e+01  8.464780e+01   \n",
       "high    1259.0  1.099511e+02  3.068619e+01  5.708570e+01  8.533495e+01   \n",
       "low     1259.0  1.081416e+02  3.037622e+01  5.501420e+01  8.425065e+01   \n",
       "close   1259.0  1.090667e+02  3.055681e+01  5.578990e+01  8.483065e+01   \n",
       "volume  1259.0  5.404790e+07  3.346835e+07  1.147592e+07  2.969438e+07   \n",
       "\n",
       "                50%           75%           max  \n",
       "open         108.97  1.273350e+02  1.793700e+02  \n",
       "high         110.03  1.281000e+02  1.801000e+02  \n",
       "low          108.05  1.262900e+02  1.782500e+02  \n",
       "close        109.01  1.271200e+02  1.792600e+02  \n",
       "volume  45668931.00  6.870872e+07  2.668336e+08  "
      ]
     },
     "execution_count": 5,
     "metadata": {},
     "output_type": "execute_result"
    }
   ],
   "source": [
    "df_g.describe().T"
   ]
  },
  {
   "cell_type": "code",
   "execution_count": 6,
   "id": "637a7348",
   "metadata": {},
   "outputs": [
    {
     "name": "stdout",
     "output_type": "stream",
     "text": [
      "<class 'pandas.core.frame.DataFrame'>\n",
      "RangeIndex: 1259 entries, 0 to 1258\n",
      "Data columns (total 7 columns):\n",
      " #   Column  Non-Null Count  Dtype  \n",
      "---  ------  --------------  -----  \n",
      " 0   date    1259 non-null   object \n",
      " 1   open    1259 non-null   float64\n",
      " 2   high    1259 non-null   float64\n",
      " 3   low     1259 non-null   float64\n",
      " 4   close   1259 non-null   float64\n",
      " 5   volume  1259 non-null   int64  \n",
      " 6   Name    1259 non-null   object \n",
      "dtypes: float64(4), int64(1), object(2)\n",
      "memory usage: 69.0+ KB\n"
     ]
    }
   ],
   "source": [
    "df_g.info()"
   ]
  },
  {
   "cell_type": "code",
   "execution_count": 7,
   "id": "c666c419",
   "metadata": {},
   "outputs": [],
   "source": [
    "df_g['date'] = pd.to_datetime(df_g['date'])\n",
    "df_g.drop('Name', axis = 1, inplace= True)"
   ]
  },
  {
   "cell_type": "code",
   "execution_count": null,
   "id": "44121008",
   "metadata": {},
   "outputs": [],
   "source": []
  }
 ],
 "metadata": {
  "kernelspec": {
   "display_name": "Python 3 (ipykernel)",
   "language": "python",
   "name": "python3"
  },
  "language_info": {
   "codemirror_mode": {
    "name": "ipython",
    "version": 3
   },
   "file_extension": ".py",
   "mimetype": "text/x-python",
   "name": "python",
   "nbconvert_exporter": "python",
   "pygments_lexer": "ipython3",
   "version": "3.10.0"
  }
 },
 "nbformat": 4,
 "nbformat_minor": 5
}
