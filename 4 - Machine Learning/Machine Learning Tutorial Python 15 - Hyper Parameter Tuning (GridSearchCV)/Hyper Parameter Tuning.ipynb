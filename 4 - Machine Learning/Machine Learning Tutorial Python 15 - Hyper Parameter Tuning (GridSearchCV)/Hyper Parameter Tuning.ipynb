{
 "cells": [
  {
   "cell_type": "markdown",
   "id": "f95de848",
   "metadata": {},
   "source": [
    "## We will look into : \n",
    "\n",
    "1. How to hyper tune machine learning model parameters \n",
    "2. Choose best model for given machine learning problem\n",
    "\n",
    "We will start by comparing traditional train_test_split approach with k fold cross validation. Then we will see how GridSearchCV helps run K Fold cross validation with its convenient api. GridSearchCV helps find best parameters that gives maximum performance. RandomizedSearchCV is another class in sklearn library that does same thing as GridSearchCV\n",
    "but without running exhaustive search, this helps with computation time and resources. We will also see how to find best model among all the classification algorithm using GridSearchCV. In the end we have interesting exercise for you to solve.\n"
   ]
  },
  {
   "cell_type": "code",
   "execution_count": null,
   "id": "cca2badc",
   "metadata": {},
   "outputs": [],
   "source": []
  }
 ],
 "metadata": {
  "kernelspec": {
   "display_name": "Python 3 (ipykernel)",
   "language": "python",
   "name": "python3"
  },
  "language_info": {
   "codemirror_mode": {
    "name": "ipython",
    "version": 3
   },
   "file_extension": ".py",
   "mimetype": "text/x-python",
   "name": "python",
   "nbconvert_exporter": "python",
   "pygments_lexer": "ipython3",
   "version": "3.10.0"
  }
 },
 "nbformat": 4,
 "nbformat_minor": 5
}
