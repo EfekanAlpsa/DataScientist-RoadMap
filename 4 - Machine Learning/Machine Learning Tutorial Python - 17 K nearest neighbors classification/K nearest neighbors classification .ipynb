{
 "cells": [
  {
   "cell_type": "markdown",
   "id": "77f7210d",
   "metadata": {},
   "source": [
    "<h1><center>KNN (K Nearest Neighbors) Classification: Machine Tutorial Using Python Sklearn</center></h1>"
   ]
  },
  {
   "cell_type": "code",
   "execution_count": null,
   "id": "322a7870",
   "metadata": {},
   "outputs": [],
   "source": []
  }
 ],
 "metadata": {
  "kernelspec": {
   "display_name": "Python 3 (ipykernel)",
   "language": "python",
   "name": "python3"
  },
  "language_info": {
   "codemirror_mode": {
    "name": "ipython",
    "version": 3
   },
   "file_extension": ".py",
   "mimetype": "text/x-python",
   "name": "python",
   "nbconvert_exporter": "python",
   "pygments_lexer": "ipython3",
   "version": "3.10.0"
  }
 },
 "nbformat": 4,
 "nbformat_minor": 5
}
