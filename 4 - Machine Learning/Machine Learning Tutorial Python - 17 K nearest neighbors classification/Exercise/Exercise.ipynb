{
 "cells": [
  {
   "cell_type": "markdown",
   "id": "51b4c292",
   "metadata": {},
   "source": [
    "From sklearn.datasets load digits dataset and do following\n",
    "\n",
    "1. Classify digits (0 to 9) using KNN classifier. You can use different values for k neighbors and need to figure out a value of K that gives you a maximum score. You can manually try different values of K or use gridsearchcv\n",
    "\n",
    "2. Plot confusion matrix\n",
    "3. Plot classification report"
   ]
  },
  {
   "cell_type": "code",
   "execution_count": null,
   "id": "1baf5fb6",
   "metadata": {},
   "outputs": [],
   "source": []
  }
 ],
 "metadata": {
  "kernelspec": {
   "display_name": "Python 3 (ipykernel)",
   "language": "python",
   "name": "python3"
  },
  "language_info": {
   "codemirror_mode": {
    "name": "ipython",
    "version": 3
   },
   "file_extension": ".py",
   "mimetype": "text/x-python",
   "name": "python",
   "nbconvert_exporter": "python",
   "pygments_lexer": "ipython3",
   "version": "3.10.7"
  }
 },
 "nbformat": 4,
 "nbformat_minor": 5
}
