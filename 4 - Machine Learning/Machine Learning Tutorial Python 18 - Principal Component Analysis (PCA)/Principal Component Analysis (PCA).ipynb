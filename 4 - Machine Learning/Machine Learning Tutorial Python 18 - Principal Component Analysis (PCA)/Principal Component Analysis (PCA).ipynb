{
 "cells": [
  {
   "attachments": {},
   "cell_type": "markdown",
   "id": "51a7b4ed",
   "metadata": {},
   "source": [
    "    What if we get rid of non important features ?\n",
    "    \n",
    "    1. Faster Training and Inference\n",
    "    2. Data Visualization Becomes Easier\n",
    "    \n",
    "### PCA : Principal Component Analysis\n",
    "\n",
    "    Is a process of figuring out most important features of principal components that has the most impact on the target variable\n",
    "    \n",
    "![Ekran%20Resmi%202023-05-20%2016.26.35.png](attachment:Ekran%20Resmi%202023-05-20%2016.26.35.png)\n",
    "    "
   ]
  },
  {
   "attachments": {},
   "cell_type": "markdown",
   "id": "a5040f98",
   "metadata": {},
   "source": [
    "![PCA.png](attachment:PCA.png)\n",
    "\n",
    "### Few things to keep in mind before using PCA :\n",
    "\n",
    "    -Scale Features Before Applying PCA\n",
    "    \n",
    "    -Accuracy might drop\n",
    "    \n",
    "         PCA is called dimensionality reduction technique as it can help us reduce dimensions"
   ]
  },
  {
   "cell_type": "code",
   "execution_count": null,
   "id": "0717b1b5",
   "metadata": {},
   "outputs": [],
   "source": []
  }
 ],
 "metadata": {
  "kernelspec": {
   "display_name": "Python 3 (ipykernel)",
   "language": "python",
   "name": "python3"
  },
  "language_info": {
   "codemirror_mode": {
    "name": "ipython",
    "version": 3
   },
   "file_extension": ".py",
   "mimetype": "text/x-python",
   "name": "python",
   "nbconvert_exporter": "python",
   "pygments_lexer": "ipython3",
   "version": "3.10.7"
  }
 },
 "nbformat": 4,
 "nbformat_minor": 5
}
