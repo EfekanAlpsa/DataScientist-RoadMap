{
 "cells": [
  {
   "cell_type": "markdown",
   "id": "66f49ddf",
   "metadata": {},
   "source": [
    "### Part 1 :\n",
    "- Theory and predict titanic survival using naive bayes\n",
    "\n",
    "### Part 2 :\n",
    "- Build email spam detector\n",
    "\n",
    "<h1><center>PART 1</center></h1>"
   ]
  },
  {
   "cell_type": "markdown",
   "id": "876563be",
   "metadata": {},
   "source": [
    "You all know that when you flip a coin the probability of getting head or tail is 1 by 2 because there are two possible outcomes and the chance of getting head or tail is 50%.\n",
    "\n",
    "Similarly , When you pick a random card , what is the probability of getting a **queen** ?\n",
    "  \n",
    "- It's very simple there are total 4 queens 52 cards hence the probability of getting Queen.\n",
    "    P(queen) = 4 / 52 = 1 / 13\n"
   ]
  },
  {
   "cell_type": "code",
   "execution_count": null,
   "id": "2a0518d1",
   "metadata": {},
   "outputs": [],
   "source": []
  }
 ],
 "metadata": {
  "kernelspec": {
   "display_name": "Python 3 (ipykernel)",
   "language": "python",
   "name": "python3"
  },
  "language_info": {
   "codemirror_mode": {
    "name": "ipython",
    "version": 3
   },
   "file_extension": ".py",
   "mimetype": "text/x-python",
   "name": "python",
   "nbconvert_exporter": "python",
   "pygments_lexer": "ipython3",
   "version": "3.10.7"
  }
 },
 "nbformat": 4,
 "nbformat_minor": 5
}
