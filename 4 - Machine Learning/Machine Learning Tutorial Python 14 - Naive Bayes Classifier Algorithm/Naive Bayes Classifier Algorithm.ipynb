{
 "cells": [
  {
   "cell_type": "markdown",
   "id": "d098ae51",
   "metadata": {},
   "source": [
    "### Part 1 :\n",
    "- Theory and predict titanic survival using naive bayes\n",
    "\n",
    "### Part 2 :\n",
    "- Build email spam detector"
   ]
  },
  {
   "cell_type": "code",
   "execution_count": null,
   "id": "4de364ad",
   "metadata": {},
   "outputs": [],
   "source": []
  }
 ],
 "metadata": {
  "kernelspec": {
   "display_name": "Python 3 (ipykernel)",
   "language": "python",
   "name": "python3"
  },
  "language_info": {
   "codemirror_mode": {
    "name": "ipython",
    "version": 3
   },
   "file_extension": ".py",
   "mimetype": "text/x-python",
   "name": "python",
   "nbconvert_exporter": "python",
   "pygments_lexer": "ipython3",
   "version": "3.10.7"
  }
 },
 "nbformat": 4,
 "nbformat_minor": 5
}
