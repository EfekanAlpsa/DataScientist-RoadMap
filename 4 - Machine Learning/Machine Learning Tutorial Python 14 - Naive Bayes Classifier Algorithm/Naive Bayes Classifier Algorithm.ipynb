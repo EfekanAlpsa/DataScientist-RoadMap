{
 "cells": [
  {
   "cell_type": "markdown",
   "id": "a1c2e36c",
   "metadata": {},
   "source": [
    "### Part 1 :\n",
    "- Theory and predict titanic survival using naive bayes\n",
    "\n",
    "### Part 2 :\n",
    "- Build email spam detector\n",
    "\n",
    "<h1><center>PART 1</center></h1>"
   ]
  },
  {
   "cell_type": "markdown",
   "id": "169205fa",
   "metadata": {},
   "source": [
    "You all know that when you flip a coin the probability of getting head or tail is 1 by 2 because there are two possible outcomes and the chance of getting head or tail is 50%.\n",
    "\n",
    "Similarly , When you pick a random card , what is the probability of getting a **queen** ?\n",
    "  \n",
    "- It's very simple there are total 4 queens 52 cards hence the probability of getting Queen.\n",
    "    P(queen) = 4/52 = 1/13\n",
    "\n",
    "Pic a random card, you know what it is a **diamond**. Now what is the probability of that card being a **queen** ?\n",
    "\n",
    "This is called a **Conditional Probability** where you know even is A occurred and then now you are trying to predict the probability of B.\n",
    "\n",
    "    Total Diamonds = 13\n",
    "\n",
    "    Queen = 1\n",
    "    \n",
    "    P(queen/diamond) = 1/13  That is Conditional Probability\n",
    "    \n",
    "**P(A/B) = Probability of event A knowing that event B has already occured**\n",
    "\n",
    "                P(B/A) * P(A) \n",
    "      P(A/B) = ---------------\n",
    "                     P(B)\n",
    "                     \n",
    "                     \n",
    "                          P(diamond/queen) * P(queen)\n",
    "      P(queen/diamond) = ------------------------------\n",
    "                                   P(diamond)\n",
    "                                   \n",
    "- P(diamond/queen) = 1/4\n",
    "- P(queen) = 1/13\n",
    "- P(diamond) = 1/4\n",
    "\n",
    "<h3><center>We Have a data set About Titanic Crash</center></h3>\n",
    "\n",
    "There are name of the people along with certain features. Here we can use Bayes Theorem where we are trying to find probability of survival based on the features such as if the person was male the class age cabin fare and so on \n",
    "\n",
    "                    Survived\n",
    "      P(------------------------------------)\n",
    "         Male & Class & Age & Cabin & Fare\n",
    "         \n",
    "      Make a naive assumption that features such as male, class, age, cabin, fare etc. are independent of each other"
   ]
  },
  {
   "cell_type": "code",
   "execution_count": null,
   "id": "034cc458",
   "metadata": {},
   "outputs": [],
   "source": []
  }
 ],
 "metadata": {
  "kernelspec": {
   "display_name": "Python 3 (ipykernel)",
   "language": "python",
   "name": "python3"
  },
  "language_info": {
   "codemirror_mode": {
    "name": "ipython",
    "version": 3
   },
   "file_extension": ".py",
   "mimetype": "text/x-python",
   "name": "python",
   "nbconvert_exporter": "python",
   "pygments_lexer": "ipython3",
   "version": "3.10.7"
  }
 },
 "nbformat": 4,
 "nbformat_minor": 5
}
