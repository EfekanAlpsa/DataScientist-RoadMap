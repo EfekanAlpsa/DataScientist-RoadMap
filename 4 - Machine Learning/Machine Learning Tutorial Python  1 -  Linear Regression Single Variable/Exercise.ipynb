{
 "cells": [
  {
   "cell_type": "markdown",
   "id": "376fbb54",
   "metadata": {},
   "source": [
    "<h1><center>Exercise</center></h1>\n",
    "\n",
    "Predict canada's per capita income in year 2020. There is an exercise folder here on github at same level as this notebook, download that and you will find canada_per_capita_income(Exercise).csv file. Using this build a regression model and predict the per capita income fo canadian citizens in year 2020\n",
    "\n",
    "<h1><center>Answer !</center></h1>\n",
    "\n",
    "<h1><center>41288.69409442</center></h1>"
   ]
  },
  {
   "cell_type": "code",
   "execution_count": 1,
   "id": "172fb1b5",
   "metadata": {},
   "outputs": [],
   "source": [
    "import pandas as pd\n",
    "import numpy as np\n",
    "import matplotlib.pyplot as plt\n",
    "from sklearn import linear_model"
   ]
  },
  {
   "cell_type": "code",
   "execution_count": null,
   "id": "2449ffff",
   "metadata": {},
   "outputs": [],
   "source": []
  }
 ],
 "metadata": {
  "kernelspec": {
   "display_name": "Python 3 (ipykernel)",
   "language": "python",
   "name": "python3"
  },
  "language_info": {
   "codemirror_mode": {
    "name": "ipython",
    "version": 3
   },
   "file_extension": ".py",
   "mimetype": "text/x-python",
   "name": "python",
   "nbconvert_exporter": "python",
   "pygments_lexer": "ipython3",
   "version": "3.10.0"
  }
 },
 "nbformat": 4,
 "nbformat_minor": 5
}
